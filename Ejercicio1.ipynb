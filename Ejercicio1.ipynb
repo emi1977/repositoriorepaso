{
 "cells": [
  {
   "cell_type": "code",
   "execution_count": 17,
   "metadata": {},
   "outputs": [
    {
     "name": "stdout",
     "output_type": "stream",
     "text": [
      "True\n"
     ]
    }
   ],
   "source": [
    "#Función que verifica si una palabra es un palíndromo\n",
    "def es_palindromo(ejemplo):\n",
    "    return ejemplo==ejemplo[::-1]\n",
    "print(es_palindromo(\"reconocer\"))"
   ]
  },
  {
   "cell_type": "code",
   "execution_count": null,
   "metadata": {},
   "outputs": [],
   "source": []
  },
  {
   "cell_type": "code",
   "execution_count": 2,
   "metadata": {},
   "outputs": [
    {
     "name": "stdout",
     "output_type": "stream",
     "text": [
      "False\n"
     ]
    }
   ],
   "source": [
    "def es_palindromo(ejemplo):\n",
    "    return ejemplo==ejemplo[::-1]\n",
    "print(es_palindromo(\"Reconocer\")) #es falso porque no reconoce la R mayúcula inicial"
   ]
  },
  {
   "cell_type": "code",
   "execution_count": 3,
   "metadata": {},
   "outputs": [
    {
     "name": "stdout",
     "output_type": "stream",
     "text": [
      "True\n"
     ]
    }
   ],
   "source": [
    "def es_palindromo(ejemplo):\n",
    "    ejemplo=ejemplo.lower() #convierte la cadena a minúsculas por lo que hace que sea true\n",
    "    return ejemplo==ejemplo[::-1]\n",
    "print(es_palindromo(\"Reconocer\"))"
   ]
  },
  {
   "cell_type": "code",
   "execution_count": 4,
   "metadata": {},
   "outputs": [
    {
     "name": "stdout",
     "output_type": "stream",
     "text": [
      "False\n"
     ]
    }
   ],
   "source": [
    "def es_palindromo(ejemplo):\n",
    "    ejemplo=ejemplo.lower()\n",
    "    return ejemplo==ejemplo[::-1]\n",
    "print(es_palindromo(\"Re conocer\")) #false al haber un espacio"
   ]
  },
  {
   "cell_type": "code",
   "execution_count": 5,
   "metadata": {},
   "outputs": [
    {
     "name": "stdout",
     "output_type": "stream",
     "text": [
      "True\n"
     ]
    }
   ],
   "source": [
    "def es_palindromo(ejemplo):\n",
    "    ejemplo=ejemplo.lower()\n",
    "    ejemplo=ejemplo.replace(\" \",\"\") #elimina todos los espacios de la cadena\n",
    "    return ejemplo==ejemplo[::-1]\n",
    "print(es_palindromo(\"Re conocer\")) "
   ]
  },
  {
   "cell_type": "code",
   "execution_count": 2,
   "metadata": {},
   "outputs": [
    {
     "name": "stdout",
     "output_type": "stream",
     "text": [
      "4\n"
     ]
    }
   ],
   "source": [
    "def contar_impares(serie): #Define una función llamada contar_impares que toma un argumento serie, que se espera sea una lista de números\n",
    "     return sum(1 for numero in serie if numero % 2 != 0) # Contar los números impares en la serie.\n",
    "serie=[1,2,5,6,78,27,36,9]\n",
    "print(contar_impares(serie))\n",
    "#for numero in serie: Itera sobre cada número en la lista serie.\n",
    "#if numero % 2 != 0: Comprueba si el número es impar. Un número es impar si el resto de su división por 2 no es 0.\n",
    "#sum(1 for numero in serie if numero % 2 != 0): Suma 1 por cada número impar encontrado en la serie. La función sum suma todos los 1\n",
    "# generados por la comprensión de lista, dando como resultado el conteo total de números impares."
   ]
  },
  {
   "cell_type": "code",
   "execution_count": 15,
   "metadata": {},
   "outputs": [
    {
     "name": "stdout",
     "output_type": "stream",
     "text": [
      "['ANa', 'Carlos', 'BeaTriz', 'DaVid']\n"
     ]
    }
   ],
   "source": [
    "#Transformar la letra intermedia del nombre de cada alumno\n",
    "def transformar_letra_intermedia(nombres):#Define una función llamada transformar_letra_intermedia que toma un argumento nombres, que se espera sea una lista de nombres\n",
    "    def transformar_nombre(nombre):#Define una función interna llamada transformar_nombre que toma un argumento nombre.\n",
    "        longitud=len(nombre)#Calcula la longitud del nombre y la almacena en la variable longitud\n",
    "        if longitud % 2 == 0:\n",
    "            # Si la longitud es par, no hay una letra intermedia única\n",
    "            return nombre\n",
    "        #Comprueba si la longitud del nombre es par (longitud % 2 == 0). Si es par, no hay una letra intermedia única, por lo que devuelve el nombre sin cambios.\n",
    "        else :\n",
    "            letra_intermedia = longitud // 2\n",
    "            # Si la longitud es impar, transformar la letra intermedia\n",
    "            \n",
    "            #Si la longitud del nombre es impar, calcula el índice de la letra intermedia dividiendo la longitud por 2 usando división entera (longitud // 2)\n",
    "            #y lo almacena en la variable letra_intermedia.\n",
    "            return nombre[:letra_intermedia] + nombre[letra_intermedia].upper() + nombre[letra_intermedia + 1:]\n",
    "        #Construye un nuevo nombre con la letra intermedia transformada a mayúsculas\n",
    "        #nombre[:indice_intermedio]: Toma la parte del nombre antes de la letra intermedia.\n",
    "        #nombre[indice_intermedio].upper(): Convierte la letra intermedia a mayúsculas.\n",
    "        #nombre[indice_intermedio + 1:]: Toma la parte del nombre después de la letra intermedia. Combina estas partes y devuelve el nuevo nombre.\n",
    "    return [transformar_nombre(nombre) for nombre in nombres]\n",
    "    #Aplica la función transformar_nombre a cada nombre en la lista nombres utilizando una comprensión de lista y devuelve una nueva lista con los nombres transformados.\n",
    "\n",
    "nombres = [\"Ana\", \"Carlos\", \"Beatriz\", \"David\"]\n",
    "print(transformar_letra_intermedia(nombres))  # Debería devolver ['AnA', 'Carlos', 'BeAtriz', 'David']"
   ]
  },
  {
   "cell_type": "code",
   "execution_count": 16,
   "metadata": {},
   "outputs": [
    {
     "name": "stdout",
     "output_type": "stream",
     "text": [
      "[{'nombre': 'ANa', 'direccion': 'Calle 1', 'edad': 20}, {'nombre': 'Carlos', 'direccion': 'Calle 2', 'edad': 22}, {'nombre': 'BeaTriz', 'direccion': 'Calle 3', 'edad': 21}, {'nombre': 'DaVid', 'direccion': 'Calle 4', 'edad': 23}]\n"
     ]
    }
   ],
   "source": [
    "def transformar_letra_intermedia_alumnos(alumnos):\n",
    "    def transformar_nombre(nombre):\n",
    "        longitud = len(nombre)\n",
    "        if longitud % 2 == 0:\n",
    "            # Si la longitud es par, no hay una letra intermedia única\n",
    "            return nombre\n",
    "        else:\n",
    "            # Si la longitud es impar, transformar la letra intermedia\n",
    "            indice_intermedio = longitud // 2\n",
    "            return nombre[:indice_intermedio] + nombre[indice_intermedio].upper() + nombre[indice_intermedio + 1:]\n",
    "    \n",
    "    for alumno in alumnos:\n",
    "        alumno['nombre'] = transformar_nombre(alumno['nombre'])\n",
    "    \n",
    "    return alumnos\n",
    "\n",
    "# Ejemplo de uso\n",
    "alumnos = [\n",
    "    {\"nombre\": \"Ana\", \"direccion\": \"Calle 1\", \"edad\": 20},\n",
    "    {\"nombre\": \"Carlos\", \"direccion\": \"Calle 2\", \"edad\": 22},\n",
    "    {\"nombre\": \"Beatriz\", \"direccion\": \"Calle 3\", \"edad\": 21},\n",
    "    {\"nombre\": \"David\", \"direccion\": \"Calle 4\", \"edad\": 23}\n",
    "]\n",
    "\n",
    "print(transformar_letra_intermedia_alumnos(alumnos))"
   ]
  },
  {
   "cell_type": "code",
   "execution_count": null,
   "metadata": {},
   "outputs": [],
   "source": [
    "#Transformar lista de alumnos en dos listas de tuplas"
   ]
  }
 ],
 "metadata": {
  "kernelspec": {
   "display_name": "Python 3 (ipykernel)",
   "language": "python",
   "name": "python3"
  },
  "language_info": {
   "codemirror_mode": {
    "name": "ipython",
    "version": 3
   },
   "file_extension": ".py",
   "mimetype": "text/x-python",
   "name": "python",
   "nbconvert_exporter": "python",
   "pygments_lexer": "ipython3",
   "version": "3.10.11"
  }
 },
 "nbformat": 4,
 "nbformat_minor": 2
}
