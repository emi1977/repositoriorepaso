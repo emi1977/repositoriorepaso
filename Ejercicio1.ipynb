{
 "cells": [
  {
   "cell_type": "code",
   "execution_count": 12,
   "metadata": {},
   "outputs": [
    {
     "name": "stdout",
     "output_type": "stream",
     "text": [
      "True\n"
     ]
    }
   ],
   "source": [
    "#Función que verifica si una palabra es un palíndromo\n",
    "def es_palindromo(ejemplo):\n",
    "    return ejemplo==ejemplo[::-1]\n",
    "print(es_palindromo(\"reconocer\"))"
   ]
  },
  {
   "cell_type": "code",
   "execution_count": 13,
   "metadata": {},
   "outputs": [
    {
     "name": "stdout",
     "output_type": "stream",
     "text": [
      "False\n"
     ]
    }
   ],
   "source": [
    "def es_palindromo(ejemplo):\n",
    "    return ejemplo==ejemplo[::-1]\n",
    "print(es_palindromo(\"Reconocer\")) #es falso porque no reconoce la R mayúcula inicial"
   ]
  },
  {
   "cell_type": "code",
   "execution_count": 14,
   "metadata": {},
   "outputs": [
    {
     "name": "stdout",
     "output_type": "stream",
     "text": [
      "True\n"
     ]
    }
   ],
   "source": [
    "def es_palindromo(ejemplo):\n",
    "    ejemplo=ejemplo.lower() #convierte la cadena a minúsculas por lo que hace que sea true\n",
    "    return ejemplo==ejemplo[::-1]\n",
    "print(es_palindromo(\"Reconocer\"))"
   ]
  },
  {
   "cell_type": "code",
   "execution_count": 15,
   "metadata": {},
   "outputs": [
    {
     "name": "stdout",
     "output_type": "stream",
     "text": [
      "False\n"
     ]
    }
   ],
   "source": [
    "def es_palindromo(ejemplo):\n",
    "    ejemplo=ejemplo.lower()\n",
    "    return ejemplo==ejemplo[::-1]\n",
    "print(es_palindromo(\"Re conocer\")) #false al haber un espacio"
   ]
  },
  {
   "cell_type": "code",
   "execution_count": 16,
   "metadata": {},
   "outputs": [
    {
     "name": "stdout",
     "output_type": "stream",
     "text": [
      "True\n"
     ]
    }
   ],
   "source": [
    "def es_palindromo(ejemplo):\n",
    "    ejemplo=ejemplo.lower()\n",
    "    ejemplo=ejemplo.replace(\" \",\"\") #elimina todos los espacios de la cadena\n",
    "    return ejemplo==ejemplo[::-1]\n",
    "print(es_palindromo(\"Re conocer\")) "
   ]
  }
 ],
 "metadata": {
  "kernelspec": {
   "display_name": "Python 3 (ipykernel)",
   "language": "python",
   "name": "python3"
  },
  "language_info": {
   "codemirror_mode": {
    "name": "ipython",
    "version": 3
   },
   "file_extension": ".py",
   "mimetype": "text/x-python",
   "name": "python",
   "nbconvert_exporter": "python",
   "pygments_lexer": "ipython3",
   "version": "3.10.11"
  }
 },
 "nbformat": 4,
 "nbformat_minor": 2
}
